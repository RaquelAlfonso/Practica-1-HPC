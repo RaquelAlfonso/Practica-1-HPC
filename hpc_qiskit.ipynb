{
 "cells": [
  {
   "cell_type": "markdown",
   "id": "d7a58965",
   "metadata": {},
   "source": [
    "Miranda Carou Laíño\n",
    "\n",
    "Raquel Alfonso Rodríguez"
   ]
  },
  {
   "cell_type": "code",
   "execution_count": 1,
   "id": "c4ac810c",
   "metadata": {},
   "outputs": [],
   "source": [
    "from qiskit import QuantumCircuit, transpile\n",
    "from qiskit.quantum_info import Statevector\n",
    "from qiskit_aer import AerSimulator\n",
    "from qiskit.visualization import array_to_latex\n",
    "from qiskit.visualization import plot_histogram\n",
    "import matplotlib.pyplot as plt\n",
    "import numpy as np\n",
    "import time"
   ]
  },
  {
   "cell_type": "code",
   "execution_count": 2,
   "id": "0ca51f17",
   "metadata": {},
   "outputs": [],
   "source": [
    "def qc_autoenc(num_qubits):\n",
    "\n",
    "    num_layers = 2\n",
    "    qc = QuantumCircuit(num_qubits)\n",
    "\n",
    "    for i in range(num_qubits):\n",
    "\n",
    "        qc.rx(2*np.pi/(1*(i+1)),i)\n",
    "        qc.ry(2*np.pi/(2*(i+1)),i)\n",
    "\n",
    "\n",
    "    for l in range(num_layers):\n",
    "\n",
    "        for i in range(num_qubits):\n",
    "            for j in range(i+1, num_qubits):\n",
    "                qc.cx(i,j)\n",
    "\n",
    "        qc.barrier()\n",
    "\n",
    "        for i in range(num_qubits):\n",
    "\n",
    "            qc.rx(2*np.pi*(l+1)/(3*(i+1)),i)\n",
    "            qc.ry(2*np.pi*(l+1)/(4*(i+1)),i)\n",
    "            qc.rz(2*np.pi*(l+1)/(5*(i+1)),i)\n",
    "\n",
    "    qc.barrier()\n",
    "\n",
    "    for i in range(num_qubits):\n",
    "\n",
    "        qc.ry(-2*np.pi/(2*(i+1)),i)\n",
    "        qc.rx(-2*np.pi/(1*(i+1)),i)\n",
    "\n",
    "    qc.save_statevector()\n",
    "\n",
    "    qc.measure_all()\n",
    "\n",
    "    qc.draw('mpl')\n",
    "    \n",
    "    return(qc)"
   ]
  },
  {
   "cell_type": "code",
   "execution_count": 3,
   "id": "dc432ec3",
   "metadata": {},
   "outputs": [],
   "source": [
    "range_qubits = 25"
   ]
  },
  {
   "cell_type": "code",
   "execution_count": null,
   "id": "5e8729ce",
   "metadata": {},
   "outputs": [],
   "source": [
    "time_statevector_mean = []\n",
    "time_statevector_median = []\n",
    "time_statevector_std = []\n",
    "\n",
    "for i in range(1, range_qubits+1):\n",
    "    \n",
    "    time_executions = []\n",
    "    \n",
    "    qc = qc_autoenc(i)\n",
    "    \n",
    "    for i in range(20):\n",
    "        \n",
    "        time_ini = time.time()\n",
    "\n",
    "        simulator = AerSimulator()\n",
    "        result = simulator.run(qc).result()\n",
    "        statevector = Statevector(result.data(0)['statevector'])\n",
    "        \n",
    "        # display(statevector.draw('latex'))\n",
    "        \n",
    "        time_fin = time.time()\n",
    "        \n",
    "        time_executions.append(time_fin-time_ini)\n",
    "        \n",
    "    \n",
    "    mean = np.mean(time_executions)\n",
    "    median = np.median(time_executions)\n",
    "    std = np.var(time_executions)\n",
    "    \n",
    "    time_statevector_mean.append(mean)\n",
    "    time_statevector_median.append(median)\n",
    "    time_statevector_std.append(std)"
   ]
  },
  {
   "cell_type": "code",
   "execution_count": null,
   "id": "f6ccdae5",
   "metadata": {},
   "outputs": [],
   "source": [
    "print(time_statevector_mean)\n",
    "print(time_statevector_median)\n",
    "print(time_statevector_std)\n",
    "print(len(time_statevector_mean))"
   ]
  },
  {
   "cell_type": "code",
   "execution_count": null,
   "id": "5d2269ff",
   "metadata": {},
   "outputs": [],
   "source": [
    "qubits = list(range(1,range_qubits+1))\n",
    "\n",
    "plt.figure(figsize=(8, 5))\n",
    "plt.plot(qubits, time_statevector_mean, 'o-', label='Media', color='blue')\n",
    "plt.plot(qubits, time_statevector_median, 's-', label='Mediana', color='green')\n",
    "plt.errorbar(qubits, time_statevector_mean, yerr=time_statevector_std, fmt='o', capsize=5, label='Desviación estándar', color='red', alpha=0.5)\n",
    " \n",
    "# Añadir etiquetas y leyenda\n",
    "plt.xlabel('Número de Qubits')\n",
    "plt.ylabel('Métrica (ej: tiempo [s] o fidelidad)')\n",
    "plt.title('Estadísticas vs. Número de Qubits')\n",
    "plt.legend()\n",
    "plt.grid(True, linestyle='--', alpha=0.7)\n",
    "plt.show()"
   ]
  },
  {
   "cell_type": "code",
   "execution_count": null,
   "id": "d9d90aa2",
   "metadata": {},
   "outputs": [],
   "source": [
    "time_run_mean = []\n",
    "time_run_median = []\n",
    "time_run_std = []\n",
    "\n",
    "for i in range(1, range_qubits+1):\n",
    "    \n",
    "    time_executions = []\n",
    "    \n",
    "    qc = qc_autoenc(i)\n",
    "    \n",
    "#     display(qc.draw('mpl'))\n",
    "    \n",
    "    for i in range(20):\n",
    "        \n",
    "        time_ini = time.time()\n",
    "\n",
    "        simulator = AerSimulator()\n",
    "        job_simulator = simulator.run(qc, shots = 2048)\n",
    "        result_simulator = job_simulator.result()\n",
    "        counts = result_simulator.get_counts()\n",
    "        \n",
    "        # display(statevector.draw('latex'))\n",
    "        \n",
    "        time_fin = time.time()\n",
    "        \n",
    "        time_executions.append(time_fin-time_ini)\n",
    "        \n",
    "    \n",
    "#     print(len(time_executions))\n",
    "#     print(time_executions)\n",
    "    \n",
    "    mean = np.mean(time_executions)\n",
    "    median = np.median(time_executions)\n",
    "    var = np.std(time_executions)\n",
    "    \n",
    "    time_run_mean.append(mean)\n",
    "    time_run_median.append(median)\n",
    "    time_run_std.append(std)"
   ]
  },
  {
   "cell_type": "code",
   "execution_count": null,
   "id": "09301400",
   "metadata": {},
   "outputs": [],
   "source": [
    "print(time_run_mean)\n",
    "print(time_run_median)\n",
    "print(time_run_std)"
   ]
  },
  {
   "cell_type": "code",
   "execution_count": null,
   "id": "2a9da548",
   "metadata": {},
   "outputs": [],
   "source": [
    "qubits = list(range(1,range_qubits+1))\n",
    "\n",
    "plt.figure(figsize=(8, 5))\n",
    "plt.plot(qubits, time_run_mean, 'o-', label='Media', color='blue')\n",
    "plt.plot(qubits, time_run_median, 's-', label='Mediana', color='green')\n",
    "plt.errorbar(qubits, time_run_mean, yerr=time_run_std, fmt='o', capsize=5, label='Desviación estándar', color='red', alpha=0.5)\n",
    " \n",
    "# Añadir etiquetas y leyenda\n",
    "plt.xlabel('Número de Qubits')\n",
    "plt.ylabel('Métrica (ej: tiempo [s] o fidelidad)')\n",
    "plt.title('Estadísticas vs. Número de Qubits')\n",
    "plt.legend()\n",
    "plt.grid(True, linestyle='--', alpha=0.7)\n",
    "plt.show()"
   ]
  },
  {
   "cell_type": "code",
   "execution_count": null,
   "id": "47cca200",
   "metadata": {},
   "outputs": [],
   "source": []
  }
 ],
 "metadata": {
  "kernelspec": {
   "display_name": "Python 3 (ipykernel)",
   "language": "python",
   "name": "python3"
  },
  "language_info": {
   "codemirror_mode": {
    "name": "ipython",
    "version": 3
   },
   "file_extension": ".py",
   "mimetype": "text/x-python",
   "name": "python",
   "nbconvert_exporter": "python",
   "pygments_lexer": "ipython3",
   "version": "3.11.1"
  }
 },
 "nbformat": 4,
 "nbformat_minor": 5
}
